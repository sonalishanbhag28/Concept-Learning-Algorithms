{
  "nbformat": 4,
  "nbformat_minor": 0,
  "metadata": {
    "colab": {
      "name": "Most Specific Hypothesis",
      "provenance": [],
      "collapsed_sections": []
    },
    "kernelspec": {
      "name": "python3",
      "display_name": "Python 3"
    },
    "language_info": {
      "name": "python"
    }
  },
  "cells": [
    {
      "cell_type": "markdown",
      "source": [
        "## Concept Learning Algorithms- Identifying Maximally Specific Hypothesis"
      ],
      "metadata": {
        "id": "dMVbYpI-c_0Q"
      }
    },
    {
      "cell_type": "code",
      "source": [
        "from google.colab import drive\n",
        "drive.mount('/content/drive')"
      ],
      "metadata": {
        "colab": {
          "base_uri": "https://localhost:8080/",
          "height": 0
        },
        "id": "S_voaZdjqOev",
        "outputId": "ba9ea475-014b-48ae-993e-dca77d2a89cd"
      },
      "execution_count": 1,
      "outputs": [
        {
          "output_type": "stream",
          "name": "stdout",
          "text": [
            "Drive already mounted at /content/drive; to attempt to forcibly remount, call drive.mount(\"/content/drive\", force_remount=True).\n"
          ]
        }
      ]
    },
    {
      "cell_type": "code",
      "source": [
        "import pandas as pd\n",
        "import numpy as np\n",
        "data = pd.read_csv(\"/content/contactlens.csv\") \n",
        "data = data.head(4)\n",
        "data"
      ],
      "metadata": {
        "colab": {
          "base_uri": "https://localhost:8080/",
          "height": 175
        },
        "id": "MR4nzCf-Y46k",
        "outputId": "495ab301-1d0b-46ff-e971-218f6e2df336"
      },
      "execution_count": 3,
      "outputs": [
        {
          "output_type": "execute_result",
          "data": {
            "text/html": [
              "\n",
              "  <div id=\"df-e5dd84b0-f04a-4478-9fd3-73218d49e290\">\n",
              "    <div class=\"colab-df-container\">\n",
              "      <div>\n",
              "<style scoped>\n",
              "    .dataframe tbody tr th:only-of-type {\n",
              "        vertical-align: middle;\n",
              "    }\n",
              "\n",
              "    .dataframe tbody tr th {\n",
              "        vertical-align: top;\n",
              "    }\n",
              "\n",
              "    .dataframe thead th {\n",
              "        text-align: right;\n",
              "    }\n",
              "</style>\n",
              "<table border=\"1\" class=\"dataframe\">\n",
              "  <thead>\n",
              "    <tr style=\"text-align: right;\">\n",
              "      <th></th>\n",
              "      <th>Age Group</th>\n",
              "      <th>Spectacle Prescription</th>\n",
              "      <th>Astigmatic</th>\n",
              "      <th>Tear Production Rate</th>\n",
              "      <th>Contact Lenses</th>\n",
              "    </tr>\n",
              "  </thead>\n",
              "  <tbody>\n",
              "    <tr>\n",
              "      <th>0</th>\n",
              "      <td>pre-presbyopic</td>\n",
              "      <td>myope</td>\n",
              "      <td>yes</td>\n",
              "      <td>normal</td>\n",
              "      <td>yes</td>\n",
              "    </tr>\n",
              "    <tr>\n",
              "      <th>1</th>\n",
              "      <td>young</td>\n",
              "      <td>myope</td>\n",
              "      <td>no</td>\n",
              "      <td>reduced</td>\n",
              "      <td>no</td>\n",
              "    </tr>\n",
              "    <tr>\n",
              "      <th>2</th>\n",
              "      <td>young</td>\n",
              "      <td>hypermetrope</td>\n",
              "      <td>no</td>\n",
              "      <td>normal</td>\n",
              "      <td>yes</td>\n",
              "    </tr>\n",
              "    <tr>\n",
              "      <th>3</th>\n",
              "      <td>presbyopic</td>\n",
              "      <td>myope</td>\n",
              "      <td>yes</td>\n",
              "      <td>normal</td>\n",
              "      <td>yes</td>\n",
              "    </tr>\n",
              "  </tbody>\n",
              "</table>\n",
              "</div>\n",
              "      <button class=\"colab-df-convert\" onclick=\"convertToInteractive('df-e5dd84b0-f04a-4478-9fd3-73218d49e290')\"\n",
              "              title=\"Convert this dataframe to an interactive table.\"\n",
              "              style=\"display:none;\">\n",
              "        \n",
              "  <svg xmlns=\"http://www.w3.org/2000/svg\" height=\"24px\"viewBox=\"0 0 24 24\"\n",
              "       width=\"24px\">\n",
              "    <path d=\"M0 0h24v24H0V0z\" fill=\"none\"/>\n",
              "    <path d=\"M18.56 5.44l.94 2.06.94-2.06 2.06-.94-2.06-.94-.94-2.06-.94 2.06-2.06.94zm-11 1L8.5 8.5l.94-2.06 2.06-.94-2.06-.94L8.5 2.5l-.94 2.06-2.06.94zm10 10l.94 2.06.94-2.06 2.06-.94-2.06-.94-.94-2.06-.94 2.06-2.06.94z\"/><path d=\"M17.41 7.96l-1.37-1.37c-.4-.4-.92-.59-1.43-.59-.52 0-1.04.2-1.43.59L10.3 9.45l-7.72 7.72c-.78.78-.78 2.05 0 2.83L4 21.41c.39.39.9.59 1.41.59.51 0 1.02-.2 1.41-.59l7.78-7.78 2.81-2.81c.8-.78.8-2.07 0-2.86zM5.41 20L4 18.59l7.72-7.72 1.47 1.35L5.41 20z\"/>\n",
              "  </svg>\n",
              "      </button>\n",
              "      \n",
              "  <style>\n",
              "    .colab-df-container {\n",
              "      display:flex;\n",
              "      flex-wrap:wrap;\n",
              "      gap: 12px;\n",
              "    }\n",
              "\n",
              "    .colab-df-convert {\n",
              "      background-color: #E8F0FE;\n",
              "      border: none;\n",
              "      border-radius: 50%;\n",
              "      cursor: pointer;\n",
              "      display: none;\n",
              "      fill: #1967D2;\n",
              "      height: 32px;\n",
              "      padding: 0 0 0 0;\n",
              "      width: 32px;\n",
              "    }\n",
              "\n",
              "    .colab-df-convert:hover {\n",
              "      background-color: #E2EBFA;\n",
              "      box-shadow: 0px 1px 2px rgba(60, 64, 67, 0.3), 0px 1px 3px 1px rgba(60, 64, 67, 0.15);\n",
              "      fill: #174EA6;\n",
              "    }\n",
              "\n",
              "    [theme=dark] .colab-df-convert {\n",
              "      background-color: #3B4455;\n",
              "      fill: #D2E3FC;\n",
              "    }\n",
              "\n",
              "    [theme=dark] .colab-df-convert:hover {\n",
              "      background-color: #434B5C;\n",
              "      box-shadow: 0px 1px 3px 1px rgba(0, 0, 0, 0.15);\n",
              "      filter: drop-shadow(0px 1px 2px rgba(0, 0, 0, 0.3));\n",
              "      fill: #FFFFFF;\n",
              "    }\n",
              "  </style>\n",
              "\n",
              "      <script>\n",
              "        const buttonEl =\n",
              "          document.querySelector('#df-e5dd84b0-f04a-4478-9fd3-73218d49e290 button.colab-df-convert');\n",
              "        buttonEl.style.display =\n",
              "          google.colab.kernel.accessAllowed ? 'block' : 'none';\n",
              "\n",
              "        async function convertToInteractive(key) {\n",
              "          const element = document.querySelector('#df-e5dd84b0-f04a-4478-9fd3-73218d49e290');\n",
              "          const dataTable =\n",
              "            await google.colab.kernel.invokeFunction('convertToInteractive',\n",
              "                                                     [key], {});\n",
              "          if (!dataTable) return;\n",
              "\n",
              "          const docLinkHtml = 'Like what you see? Visit the ' +\n",
              "            '<a target=\"_blank\" href=https://colab.research.google.com/notebooks/data_table.ipynb>data table notebook</a>'\n",
              "            + ' to learn more about interactive tables.';\n",
              "          element.innerHTML = '';\n",
              "          dataTable['output_type'] = 'display_data';\n",
              "          await google.colab.output.renderOutput(dataTable, element);\n",
              "          const docLink = document.createElement('div');\n",
              "          docLink.innerHTML = docLinkHtml;\n",
              "          element.appendChild(docLink);\n",
              "        }\n",
              "      </script>\n",
              "    </div>\n",
              "  </div>\n",
              "  "
            ],
            "text/plain": [
              "        Age Group Spectacle Prescription  ... Tear Production Rate Contact Lenses\n",
              "0  pre-presbyopic                  myope  ...               normal            yes\n",
              "1           young                  myope  ...              reduced             no\n",
              "2           young           hypermetrope  ...               normal            yes\n",
              "3      presbyopic                  myope  ...               normal            yes\n",
              "\n",
              "[4 rows x 5 columns]"
            ]
          },
          "metadata": {},
          "execution_count": 3
        }
      ]
    },
    {
      "cell_type": "code",
      "source": [
        "concepts = np.array(data.iloc[:,0:-1])\n",
        "print(\"\\nExamples:\\n\",concepts)\n",
        "target = np.array(data.iloc[:,-1])\n",
        "print(\"\\nTarget Values are: \",target)"
      ],
      "metadata": {
        "colab": {
          "base_uri": "https://localhost:8080/",
          "height": 0
        },
        "id": "_Zfm2F-BZbZa",
        "outputId": "2edd86ea-6390-45b0-dc7f-902b6d2ff092"
      },
      "execution_count": 4,
      "outputs": [
        {
          "output_type": "stream",
          "name": "stdout",
          "text": [
            "\n",
            "Examples:\n",
            " [['pre-presbyopic' 'myope' 'yes' 'normal']\n",
            " ['young' 'myope' 'no' 'reduced']\n",
            " ['young' 'hypermetrope' 'no' 'normal']\n",
            " ['presbyopic' 'myope' 'yes' 'normal']]\n",
            "\n",
            "Target Values are:  ['yes' 'no' 'yes' 'yes']\n"
          ]
        }
      ]
    },
    {
      "cell_type": "code",
      "execution_count": 5,
      "metadata": {
        "colab": {
          "base_uri": "https://localhost:8080/",
          "height": 0
        },
        "id": "H_T-Q4rclg9V",
        "outputId": "70c56ecb-ba64-4136-f972-447a399b5896"
      },
      "outputs": [
        {
          "output_type": "stream",
          "name": "stdout",
          "text": [
            "Final Hypothesis: ['?' '?' '?' 'normal']\n"
          ]
        }
      ],
      "source": [
        "def findS(c,t):\n",
        "    for i, val in enumerate(t):\n",
        "        if val == \"yes\":\n",
        "            specific_h = c[i].copy()\n",
        "            break        \n",
        "    for i, val in enumerate(c):\n",
        "        if t[i] == \"yes\":\n",
        "            for x in range(len(specific_h)):\n",
        "                if val[x] != specific_h[x]:\n",
        "                    specific_h[x] = '?'\n",
        "                else:\n",
        "                    pass             \n",
        "    return specific_h\n",
        " \n",
        "print(\"Final Hypothesis:\",findS(concepts,target))"
      ]
    },
    {
      "cell_type": "code",
      "source": [
        "def candidateElimination(concepts, target): \n",
        "    specific_h = concepts[0].copy()\n",
        "    print(\"Specific Boundary: \", specific_h)\n",
        "    general_h = [[\"?\" for i in range(len(specific_h))] for i in range(len(specific_h))]\n",
        "    print(\"\\nGeneric Boundary: \",general_h)  \n",
        "    for i, h in enumerate(concepts):\n",
        "        print(\"\\nExample\", i+1 , \"is \", h)\n",
        "        if target[i] == \"yes\": #edit value based on dataset\n",
        "            print(\"Positive \")\n",
        "            for x in range(len(specific_h)): \n",
        "                if h[x]!= specific_h[x]:                    \n",
        "                    specific_h[x] ='?'                     \n",
        "                    general_h[x][x] ='?'\n",
        "                   \n",
        "        if target[i] == \"no\":  #edit value based on dataset         \n",
        "            print(\"Negative \")\n",
        "            for x in range(len(specific_h)): \n",
        "                if h[x]!= specific_h[x]:                    \n",
        "                    general_h[x][x] = specific_h[x]                \n",
        "                else:                    \n",
        "                    general_h[x][x] = '?'   \n",
        "         \n",
        "        print(\"S\", i+1, specific_h)         \n",
        "        print(\"G\", i+1, general_h)\n",
        "\n",
        "    indices = [i for i, val in enumerate(general_h) if val == ['?', '?', '?', '?']]   #edit number of '?' based on dataset\n",
        "    for i in indices:   \n",
        "        general_h.remove(['?', '?', '?', '?']) #edit number of '?' based on dataset\n",
        "    return specific_h, general_h \n",
        "\n",
        "s_final, g_final = candidateElimination(concepts, target)\n",
        "\n",
        "print(\"\\nFinal Specific Hypothesis: \", s_final)\n",
        "print(\"Final General Hypothesis: \", g_final)"
      ],
      "metadata": {
        "colab": {
          "base_uri": "https://localhost:8080/",
          "height": 0
        },
        "id": "ZG-GbKVmm6Oj",
        "outputId": "0d2b82a1-5018-480c-8780-04637df62f54"
      },
      "execution_count": 8,
      "outputs": [
        {
          "output_type": "stream",
          "name": "stdout",
          "text": [
            "Specific Boundary:  ['pre-presbyopic' 'myope' 'yes' 'normal']\n",
            "\n",
            "Generic Boundary:  [['?', '?', '?', '?'], ['?', '?', '?', '?'], ['?', '?', '?', '?'], ['?', '?', '?', '?']]\n",
            "\n",
            "Example 1 is  ['pre-presbyopic' 'myope' 'yes' 'normal']\n",
            "Positive \n",
            "S 1 ['pre-presbyopic' 'myope' 'yes' 'normal']\n",
            "G 1 [['?', '?', '?', '?'], ['?', '?', '?', '?'], ['?', '?', '?', '?'], ['?', '?', '?', '?']]\n",
            "\n",
            "Example 2 is  ['young' 'myope' 'no' 'reduced']\n",
            "Negative \n",
            "S 2 ['pre-presbyopic' 'myope' 'yes' 'normal']\n",
            "G 2 [['pre-presbyopic', '?', '?', '?'], ['?', '?', '?', '?'], ['?', '?', 'yes', '?'], ['?', '?', '?', 'normal']]\n",
            "\n",
            "Example 3 is  ['young' 'hypermetrope' 'no' 'normal']\n",
            "Positive \n",
            "S 3 ['?' '?' '?' 'normal']\n",
            "G 3 [['?', '?', '?', '?'], ['?', '?', '?', '?'], ['?', '?', '?', '?'], ['?', '?', '?', 'normal']]\n",
            "\n",
            "Example 4 is  ['presbyopic' 'myope' 'yes' 'normal']\n",
            "Positive \n",
            "S 4 ['?' '?' '?' 'normal']\n",
            "G 4 [['?', '?', '?', '?'], ['?', '?', '?', '?'], ['?', '?', '?', '?'], ['?', '?', '?', 'normal']]\n",
            "\n",
            "Final Specific Hypothesis:  ['?' '?' '?' 'normal']\n",
            "Final General Hypothesis:  [['?', '?', '?', 'normal']]\n"
          ]
        }
      ]
    }
  ]
}